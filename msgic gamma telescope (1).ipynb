{
 "cells": [
  {
   "cell_type": "code",
   "execution_count": 4,
   "id": "560682cb",
   "metadata": {},
   "outputs": [
    {
     "name": "stdout",
     "output_type": "stream",
     "text": [
      "Requirement already satisfied: scikeras in c:\\users\\user\\anaconda3\\lib\\site-packages (0.9.0)\n",
      "Requirement already satisfied: packaging>=0.21 in c:\\users\\user\\anaconda3\\lib\\site-packages (from scikeras) (20.9)\n",
      "Requirement already satisfied: scikit-learn>=1.0.0 in c:\\users\\user\\anaconda3\\lib\\site-packages (from scikeras) (1.1.2)\n",
      "Requirement already satisfied: pyparsing>=2.0.2 in c:\\users\\user\\anaconda3\\lib\\site-packages (from packaging>=0.21->scikeras) (2.4.7)\n",
      "Requirement already satisfied: scipy>=1.3.2 in c:\\users\\user\\anaconda3\\lib\\site-packages (from scikit-learn>=1.0.0->scikeras) (1.6.2)\n",
      "Requirement already satisfied: numpy>=1.17.3 in c:\\users\\user\\anaconda3\\lib\\site-packages (from scikit-learn>=1.0.0->scikeras) (1.20.1)\n",
      "Requirement already satisfied: joblib>=1.0.0 in c:\\users\\user\\anaconda3\\lib\\site-packages (from scikit-learn>=1.0.0->scikeras) (1.0.1)\n",
      "Requirement already satisfied: threadpoolctl>=2.0.0 in c:\\users\\user\\anaconda3\\lib\\site-packages (from scikit-learn>=1.0.0->scikeras) (2.1.0)\n"
     ]
    }
   ],
   "source": [
    "!pip install scikeras\n"
   ]
  },
  {
   "cell_type": "code",
   "execution_count": 5,
   "id": "146897c2",
   "metadata": {},
   "outputs": [],
   "source": [
    "import pandas as pd\n",
    "import numpy as np\n",
    "\n",
    "import matplotlib.pyplot as plt\n",
    "import seaborn as sns"
   ]
  },
  {
   "cell_type": "code",
   "execution_count": 6,
   "id": "03af3286",
   "metadata": {},
   "outputs": [],
   "source": [
    "from sklearn.preprocessing import MinMaxScaler, LabelEncoder\n",
    "from sklearn.model_selection import train_test_split, GridSearchCV\n",
    "from sklearn.metrics import confusion_matrix, classification_report, accuracy_score, f1_score"
   ]
  },
  {
   "cell_type": "code",
   "execution_count": 7,
   "id": "8c338671",
   "metadata": {},
   "outputs": [
    {
     "name": "stdout",
     "output_type": "stream",
     "text": [
      "Requirement already satisfied: tensorflow in c:\\users\\user\\anaconda3\\lib\\site-packages (2.10.0)\n",
      "Requirement already satisfied: google-pasta>=0.1.1 in c:\\users\\user\\anaconda3\\lib\\site-packages (from tensorflow) (0.2.0)\n",
      "Requirement already satisfied: astunparse>=1.6.0 in c:\\users\\user\\anaconda3\\lib\\site-packages (from tensorflow) (1.6.3)\n",
      "Requirement already satisfied: keras-preprocessing>=1.1.1 in c:\\users\\user\\anaconda3\\lib\\site-packages (from tensorflow) (1.1.2)\n",
      "Requirement already satisfied: protobuf<3.20,>=3.9.2 in c:\\users\\user\\anaconda3\\lib\\site-packages (from tensorflow) (3.19.6)\n",
      "Requirement already satisfied: tensorflow-estimator<2.11,>=2.10.0 in c:\\users\\user\\anaconda3\\lib\\site-packages (from tensorflow) (2.10.0)\n",
      "Requirement already satisfied: h5py>=2.9.0 in c:\\users\\user\\anaconda3\\lib\\site-packages (from tensorflow) (2.10.0)\n",
      "Requirement already satisfied: keras<2.11,>=2.10.0 in c:\\users\\user\\anaconda3\\lib\\site-packages (from tensorflow) (2.10.0)\n",
      "Requirement already satisfied: grpcio<2.0,>=1.24.3 in c:\\users\\user\\anaconda3\\lib\\site-packages (from tensorflow) (1.49.1)\n",
      "Requirement already satisfied: packaging in c:\\users\\user\\anaconda3\\lib\\site-packages (from tensorflow) (20.9)\n",
      "Requirement already satisfied: numpy>=1.20 in c:\\users\\user\\anaconda3\\lib\\site-packages (from tensorflow) (1.20.1)\n",
      "Requirement already satisfied: typing-extensions>=3.6.6 in c:\\users\\user\\anaconda3\\lib\\site-packages (from tensorflow) (3.7.4.3)\n",
      "Requirement already satisfied: wrapt>=1.11.0 in c:\\users\\user\\anaconda3\\lib\\site-packages (from tensorflow) (1.12.1)\n",
      "Requirement already satisfied: setuptools in c:\\users\\user\\anaconda3\\lib\\site-packages (from tensorflow) (52.0.0.post20210125)\n",
      "Requirement already satisfied: gast<=0.4.0,>=0.2.1 in c:\\users\\user\\anaconda3\\lib\\site-packages (from tensorflow) (0.4.0)\n",
      "Requirement already satisfied: tensorflow-io-gcs-filesystem>=0.23.1 in c:\\users\\user\\anaconda3\\lib\\site-packages (from tensorflow) (0.27.0)\n",
      "Requirement already satisfied: opt-einsum>=2.3.2 in c:\\users\\user\\anaconda3\\lib\\site-packages (from tensorflow) (3.3.0)\n",
      "Requirement already satisfied: flatbuffers>=2.0 in c:\\users\\user\\anaconda3\\lib\\site-packages (from tensorflow) (22.9.24)\n",
      "Requirement already satisfied: absl-py>=1.0.0 in c:\\users\\user\\anaconda3\\lib\\site-packages (from tensorflow) (1.3.0)\n",
      "Requirement already satisfied: six>=1.12.0 in c:\\users\\user\\anaconda3\\lib\\site-packages (from tensorflow) (1.15.0)\n",
      "Requirement already satisfied: tensorboard<2.11,>=2.10 in c:\\users\\user\\anaconda3\\lib\\site-packages (from tensorflow) (2.10.1)\n",
      "Requirement already satisfied: libclang>=13.0.0 in c:\\users\\user\\anaconda3\\lib\\site-packages (from tensorflow) (14.0.6)\n",
      "Requirement already satisfied: termcolor>=1.1.0 in c:\\users\\user\\anaconda3\\lib\\site-packages (from tensorflow) (2.0.1)\n",
      "Requirement already satisfied: wheel<1.0,>=0.23.0 in c:\\users\\user\\anaconda3\\lib\\site-packages (from astunparse>=1.6.0->tensorflow) (0.36.2)\n",
      "Requirement already satisfied: google-auth-oauthlib<0.5,>=0.4.1 in c:\\users\\user\\anaconda3\\lib\\site-packages (from tensorboard<2.11,>=2.10->tensorflow) (0.4.6)\n",
      "Requirement already satisfied: google-auth<3,>=1.6.3 in c:\\users\\user\\anaconda3\\lib\\site-packages (from tensorboard<2.11,>=2.10->tensorflow) (2.12.0)\n",
      "Requirement already satisfied: tensorboard-data-server<0.7.0,>=0.6.0 in c:\\users\\user\\anaconda3\\lib\\site-packages (from tensorboard<2.11,>=2.10->tensorflow) (0.6.1)\n",
      "Requirement already satisfied: tensorboard-plugin-wit>=1.6.0 in c:\\users\\user\\anaconda3\\lib\\site-packages (from tensorboard<2.11,>=2.10->tensorflow) (1.8.1)\n",
      "Requirement already satisfied: werkzeug>=1.0.1 in c:\\users\\user\\anaconda3\\lib\\site-packages (from tensorboard<2.11,>=2.10->tensorflow) (1.0.1)\n",
      "Requirement already satisfied: requests<3,>=2.21.0 in c:\\users\\user\\anaconda3\\lib\\site-packages (from tensorboard<2.11,>=2.10->tensorflow) (2.25.1)\n",
      "Requirement already satisfied: markdown>=2.6.8 in c:\\users\\user\\anaconda3\\lib\\site-packages (from tensorboard<2.11,>=2.10->tensorflow) (3.4.1)\n",
      "Requirement already satisfied: rsa<5,>=3.1.4 in c:\\users\\user\\anaconda3\\lib\\site-packages (from google-auth<3,>=1.6.3->tensorboard<2.11,>=2.10->tensorflow) (4.9)\n",
      "Requirement already satisfied: pyasn1-modules>=0.2.1 in c:\\users\\user\\anaconda3\\lib\\site-packages (from google-auth<3,>=1.6.3->tensorboard<2.11,>=2.10->tensorflow) (0.2.8)\n",
      "Requirement already satisfied: cachetools<6.0,>=2.0.0 in c:\\users\\user\\anaconda3\\lib\\site-packages (from google-auth<3,>=1.6.3->tensorboard<2.11,>=2.10->tensorflow) (5.2.0)\n",
      "Requirement already satisfied: requests-oauthlib>=0.7.0 in c:\\users\\user\\anaconda3\\lib\\site-packages (from google-auth-oauthlib<0.5,>=0.4.1->tensorboard<2.11,>=2.10->tensorflow) (1.3.1)\n",
      "Requirement already satisfied: importlib-metadata>=4.4 in c:\\users\\user\\anaconda3\\lib\\site-packages (from markdown>=2.6.8->tensorboard<2.11,>=2.10->tensorflow) (5.0.0)\n",
      "Requirement already satisfied: zipp>=0.5 in c:\\users\\user\\anaconda3\\lib\\site-packages (from importlib-metadata>=4.4->markdown>=2.6.8->tensorboard<2.11,>=2.10->tensorflow) (3.4.1)\n",
      "Requirement already satisfied: pyasn1<0.5.0,>=0.4.6 in c:\\users\\user\\anaconda3\\lib\\site-packages (from pyasn1-modules>=0.2.1->google-auth<3,>=1.6.3->tensorboard<2.11,>=2.10->tensorflow) (0.4.8)\n",
      "Requirement already satisfied: urllib3<1.27,>=1.21.1 in c:\\users\\user\\anaconda3\\lib\\site-packages (from requests<3,>=2.21.0->tensorboard<2.11,>=2.10->tensorflow) (1.26.4)\n",
      "Requirement already satisfied: chardet<5,>=3.0.2 in c:\\users\\user\\anaconda3\\lib\\site-packages (from requests<3,>=2.21.0->tensorboard<2.11,>=2.10->tensorflow) (4.0.0)\n",
      "Requirement already satisfied: idna<3,>=2.5 in c:\\users\\user\\anaconda3\\lib\\site-packages (from requests<3,>=2.21.0->tensorboard<2.11,>=2.10->tensorflow) (2.10)\n",
      "Requirement already satisfied: certifi>=2017.4.17 in c:\\users\\user\\anaconda3\\lib\\site-packages (from requests<3,>=2.21.0->tensorboard<2.11,>=2.10->tensorflow) (2020.12.5)\n",
      "Requirement already satisfied: oauthlib>=3.0.0 in c:\\users\\user\\anaconda3\\lib\\site-packages (from requests-oauthlib>=0.7.0->google-auth-oauthlib<0.5,>=0.4.1->tensorboard<2.11,>=2.10->tensorflow) (3.2.1)\n",
      "Requirement already satisfied: pyparsing>=2.0.2 in c:\\users\\user\\anaconda3\\lib\\site-packages (from packaging->tensorflow) (2.4.7)\n"
     ]
    }
   ],
   "source": [
    "!pip install tensorflow"
   ]
  },
  {
   "cell_type": "code",
   "execution_count": 8,
   "id": "d91b73f1",
   "metadata": {},
   "outputs": [],
   "source": [
    "from tensorflow.keras.models import Sequential\n",
    "from tensorflow.keras.layers import Dense, Dropout\n",
    "from tensorflow.keras.callbacks import EarlyStopping\n",
    "from tensorflow.keras.optimizers import Adam\n",
    "from scikeras.wrappers import KerasClassifier"
   ]
  },
  {
   "cell_type": "markdown",
   "id": "e972e07e",
   "metadata": {},
   "source": [
    "## Read dataset into python"
   ]
  },
  {
   "cell_type": "code",
   "execution_count": 9,
   "id": "6635d0b9",
   "metadata": {},
   "outputs": [
    {
     "data": {
      "text/html": [
       "<div>\n",
       "<style scoped>\n",
       "    .dataframe tbody tr th:only-of-type {\n",
       "        vertical-align: middle;\n",
       "    }\n",
       "\n",
       "    .dataframe tbody tr th {\n",
       "        vertical-align: top;\n",
       "    }\n",
       "\n",
       "    .dataframe thead th {\n",
       "        text-align: right;\n",
       "    }\n",
       "</style>\n",
       "<table border=\"1\" class=\"dataframe\">\n",
       "  <thead>\n",
       "    <tr style=\"text-align: right;\">\n",
       "      <th></th>\n",
       "      <th>flength</th>\n",
       "      <th>fwidth</th>\n",
       "      <th>fsize</th>\n",
       "      <th>fconc</th>\n",
       "      <th>fconc1</th>\n",
       "      <th>fsym</th>\n",
       "      <th>fm3long</th>\n",
       "      <th>fm3trans</th>\n",
       "      <th>falpha</th>\n",
       "      <th>dist</th>\n",
       "      <th>class</th>\n",
       "    </tr>\n",
       "  </thead>\n",
       "  <tbody>\n",
       "    <tr>\n",
       "      <th>0</th>\n",
       "      <td>28.7967</td>\n",
       "      <td>16.0021</td>\n",
       "      <td>2.6449</td>\n",
       "      <td>0.3918</td>\n",
       "      <td>0.1982</td>\n",
       "      <td>27.7004</td>\n",
       "      <td>22.0110</td>\n",
       "      <td>-8.2027</td>\n",
       "      <td>40.0920</td>\n",
       "      <td>81.8828</td>\n",
       "      <td>g</td>\n",
       "    </tr>\n",
       "    <tr>\n",
       "      <th>1</th>\n",
       "      <td>31.6036</td>\n",
       "      <td>11.7235</td>\n",
       "      <td>2.5185</td>\n",
       "      <td>0.5303</td>\n",
       "      <td>0.3773</td>\n",
       "      <td>26.2722</td>\n",
       "      <td>23.8238</td>\n",
       "      <td>-9.9574</td>\n",
       "      <td>6.3609</td>\n",
       "      <td>205.2610</td>\n",
       "      <td>g</td>\n",
       "    </tr>\n",
       "    <tr>\n",
       "      <th>2</th>\n",
       "      <td>162.0520</td>\n",
       "      <td>136.0310</td>\n",
       "      <td>4.0612</td>\n",
       "      <td>0.0374</td>\n",
       "      <td>0.0187</td>\n",
       "      <td>116.7410</td>\n",
       "      <td>-64.8580</td>\n",
       "      <td>-45.2160</td>\n",
       "      <td>76.9600</td>\n",
       "      <td>256.7880</td>\n",
       "      <td>g</td>\n",
       "    </tr>\n",
       "    <tr>\n",
       "      <th>3</th>\n",
       "      <td>23.8172</td>\n",
       "      <td>9.5728</td>\n",
       "      <td>2.3385</td>\n",
       "      <td>0.6147</td>\n",
       "      <td>0.3922</td>\n",
       "      <td>27.2107</td>\n",
       "      <td>-6.4633</td>\n",
       "      <td>-7.1513</td>\n",
       "      <td>10.4490</td>\n",
       "      <td>116.7370</td>\n",
       "      <td>g</td>\n",
       "    </tr>\n",
       "    <tr>\n",
       "      <th>4</th>\n",
       "      <td>75.1362</td>\n",
       "      <td>30.9205</td>\n",
       "      <td>3.1611</td>\n",
       "      <td>0.3168</td>\n",
       "      <td>0.1832</td>\n",
       "      <td>-5.5277</td>\n",
       "      <td>28.5525</td>\n",
       "      <td>21.8393</td>\n",
       "      <td>4.6480</td>\n",
       "      <td>356.4620</td>\n",
       "      <td>g</td>\n",
       "    </tr>\n",
       "  </tbody>\n",
       "</table>\n",
       "</div>"
      ],
      "text/plain": [
       "    flength    fwidth   fsize   fconc  fconc1      fsym  fm3long  fm3trans  \\\n",
       "0   28.7967   16.0021  2.6449  0.3918  0.1982   27.7004  22.0110   -8.2027   \n",
       "1   31.6036   11.7235  2.5185  0.5303  0.3773   26.2722  23.8238   -9.9574   \n",
       "2  162.0520  136.0310  4.0612  0.0374  0.0187  116.7410 -64.8580  -45.2160   \n",
       "3   23.8172    9.5728  2.3385  0.6147  0.3922   27.2107  -6.4633   -7.1513   \n",
       "4   75.1362   30.9205  3.1611  0.3168  0.1832   -5.5277  28.5525   21.8393   \n",
       "\n",
       "    falpha      dist class  \n",
       "0  40.0920   81.8828     g  \n",
       "1   6.3609  205.2610     g  \n",
       "2  76.9600  256.7880     g  \n",
       "3  10.4490  116.7370     g  \n",
       "4   4.6480  356.4620     g  "
      ]
     },
     "execution_count": 9,
     "metadata": {},
     "output_type": "execute_result"
    }
   ],
   "source": [
    "df = pd.read_csv('magic_gamma_telescope04_sample.csv')\n",
    "df.head()"
   ]
  },
  {
   "cell_type": "code",
   "execution_count": 10,
   "id": "fbd58b03",
   "metadata": {},
   "outputs": [
    {
     "data": {
      "text/plain": [
       "g    2183\n",
       "h    2104\n",
       "Name: class, dtype: int64"
      ]
     },
     "execution_count": 10,
     "metadata": {},
     "output_type": "execute_result"
    }
   ],
   "source": [
    "df['class'].value_counts()"
   ]
  },
  {
   "cell_type": "code",
   "execution_count": 11,
   "id": "facda3aa",
   "metadata": {},
   "outputs": [
    {
     "data": {
      "text/html": [
       "<div>\n",
       "<style scoped>\n",
       "    .dataframe tbody tr th:only-of-type {\n",
       "        vertical-align: middle;\n",
       "    }\n",
       "\n",
       "    .dataframe tbody tr th {\n",
       "        vertical-align: top;\n",
       "    }\n",
       "\n",
       "    .dataframe thead th {\n",
       "        text-align: right;\n",
       "    }\n",
       "</style>\n",
       "<table border=\"1\" class=\"dataframe\">\n",
       "  <thead>\n",
       "    <tr style=\"text-align: right;\">\n",
       "      <th></th>\n",
       "      <th>flength</th>\n",
       "      <th>fwidth</th>\n",
       "      <th>fsize</th>\n",
       "      <th>fconc</th>\n",
       "      <th>fconc1</th>\n",
       "      <th>fsym</th>\n",
       "      <th>fm3long</th>\n",
       "      <th>fm3trans</th>\n",
       "      <th>falpha</th>\n",
       "      <th>dist</th>\n",
       "    </tr>\n",
       "  </thead>\n",
       "  <tbody>\n",
       "    <tr>\n",
       "      <th>count</th>\n",
       "      <td>4287.000000</td>\n",
       "      <td>4287.000000</td>\n",
       "      <td>4287.000000</td>\n",
       "      <td>4287.000000</td>\n",
       "      <td>4287.000000</td>\n",
       "      <td>4287.000000</td>\n",
       "      <td>4287.000000</td>\n",
       "      <td>4287.000000</td>\n",
       "      <td>4287.000000</td>\n",
       "      <td>4287.000000</td>\n",
       "    </tr>\n",
       "    <tr>\n",
       "      <th>mean</th>\n",
       "      <td>57.716420</td>\n",
       "      <td>24.135054</td>\n",
       "      <td>2.849275</td>\n",
       "      <td>0.375352</td>\n",
       "      <td>0.212399</td>\n",
       "      <td>-8.742164</td>\n",
       "      <td>7.314128</td>\n",
       "      <td>0.642312</td>\n",
       "      <td>31.757071</td>\n",
       "      <td>195.702966</td>\n",
       "    </tr>\n",
       "    <tr>\n",
       "      <th>std</th>\n",
       "      <td>47.897591</td>\n",
       "      <td>21.823325</td>\n",
       "      <td>0.472802</td>\n",
       "      <td>0.181586</td>\n",
       "      <td>0.110284</td>\n",
       "      <td>66.928938</td>\n",
       "      <td>56.577545</td>\n",
       "      <td>24.176600</td>\n",
       "      <td>27.188376</td>\n",
       "      <td>76.210147</td>\n",
       "    </tr>\n",
       "    <tr>\n",
       "      <th>min</th>\n",
       "      <td>7.360600</td>\n",
       "      <td>0.000000</td>\n",
       "      <td>1.991600</td>\n",
       "      <td>0.013100</td>\n",
       "      <td>0.000300</td>\n",
       "      <td>-382.594000</td>\n",
       "      <td>-318.300200</td>\n",
       "      <td>-205.894700</td>\n",
       "      <td>0.000000</td>\n",
       "      <td>5.745600</td>\n",
       "    </tr>\n",
       "    <tr>\n",
       "      <th>25%</th>\n",
       "      <td>24.587650</td>\n",
       "      <td>11.904000</td>\n",
       "      <td>2.501100</td>\n",
       "      <td>0.232650</td>\n",
       "      <td>0.126450</td>\n",
       "      <td>-25.685900</td>\n",
       "      <td>-15.003250</td>\n",
       "      <td>-10.895600</td>\n",
       "      <td>7.439800</td>\n",
       "      <td>142.827500</td>\n",
       "    </tr>\n",
       "    <tr>\n",
       "      <th>50%</th>\n",
       "      <td>38.875400</td>\n",
       "      <td>17.389500</td>\n",
       "      <td>2.757400</td>\n",
       "      <td>0.352600</td>\n",
       "      <td>0.196000</td>\n",
       "      <td>1.845800</td>\n",
       "      <td>14.907700</td>\n",
       "      <td>1.910700</td>\n",
       "      <td>23.821000</td>\n",
       "      <td>193.740000</td>\n",
       "    </tr>\n",
       "    <tr>\n",
       "      <th>75%</th>\n",
       "      <td>75.201750</td>\n",
       "      <td>26.154050</td>\n",
       "      <td>3.131400</td>\n",
       "      <td>0.503000</td>\n",
       "      <td>0.285400</td>\n",
       "      <td>23.421500</td>\n",
       "      <td>34.763650</td>\n",
       "      <td>11.382700</td>\n",
       "      <td>53.004700</td>\n",
       "      <td>242.893700</td>\n",
       "    </tr>\n",
       "    <tr>\n",
       "      <th>max</th>\n",
       "      <td>334.177000</td>\n",
       "      <td>256.382000</td>\n",
       "      <td>5.323300</td>\n",
       "      <td>0.893000</td>\n",
       "      <td>0.628300</td>\n",
       "      <td>575.240700</td>\n",
       "      <td>238.321000</td>\n",
       "      <td>179.851000</td>\n",
       "      <td>90.000000</td>\n",
       "      <td>450.953000</td>\n",
       "    </tr>\n",
       "  </tbody>\n",
       "</table>\n",
       "</div>"
      ],
      "text/plain": [
       "           flength       fwidth        fsize        fconc       fconc1  \\\n",
       "count  4287.000000  4287.000000  4287.000000  4287.000000  4287.000000   \n",
       "mean     57.716420    24.135054     2.849275     0.375352     0.212399   \n",
       "std      47.897591    21.823325     0.472802     0.181586     0.110284   \n",
       "min       7.360600     0.000000     1.991600     0.013100     0.000300   \n",
       "25%      24.587650    11.904000     2.501100     0.232650     0.126450   \n",
       "50%      38.875400    17.389500     2.757400     0.352600     0.196000   \n",
       "75%      75.201750    26.154050     3.131400     0.503000     0.285400   \n",
       "max     334.177000   256.382000     5.323300     0.893000     0.628300   \n",
       "\n",
       "              fsym      fm3long     fm3trans       falpha         dist  \n",
       "count  4287.000000  4287.000000  4287.000000  4287.000000  4287.000000  \n",
       "mean     -8.742164     7.314128     0.642312    31.757071   195.702966  \n",
       "std      66.928938    56.577545    24.176600    27.188376    76.210147  \n",
       "min    -382.594000  -318.300200  -205.894700     0.000000     5.745600  \n",
       "25%     -25.685900   -15.003250   -10.895600     7.439800   142.827500  \n",
       "50%       1.845800    14.907700     1.910700    23.821000   193.740000  \n",
       "75%      23.421500    34.763650    11.382700    53.004700   242.893700  \n",
       "max     575.240700   238.321000   179.851000    90.000000   450.953000  "
      ]
     },
     "execution_count": 11,
     "metadata": {},
     "output_type": "execute_result"
    }
   ],
   "source": [
    "df.describe()"
   ]
  },
  {
   "cell_type": "code",
   "execution_count": 12,
   "id": "de4ee927",
   "metadata": {},
   "outputs": [
    {
     "name": "stdout",
     "output_type": "stream",
     "text": [
      "<class 'pandas.core.frame.DataFrame'>\n",
      "RangeIndex: 4287 entries, 0 to 4286\n",
      "Data columns (total 11 columns):\n",
      " #   Column    Non-Null Count  Dtype  \n",
      "---  ------    --------------  -----  \n",
      " 0   flength   4287 non-null   float64\n",
      " 1   fwidth    4287 non-null   float64\n",
      " 2   fsize     4287 non-null   float64\n",
      " 3   fconc     4287 non-null   float64\n",
      " 4   fconc1    4287 non-null   float64\n",
      " 5   fsym      4287 non-null   float64\n",
      " 6   fm3long   4287 non-null   float64\n",
      " 7   fm3trans  4287 non-null   float64\n",
      " 8   falpha    4287 non-null   float64\n",
      " 9   dist      4287 non-null   float64\n",
      " 10  class     4287 non-null   object \n",
      "dtypes: float64(10), object(1)\n",
      "memory usage: 368.5+ KB\n"
     ]
    }
   ],
   "source": [
    "df.info()"
   ]
  },
  {
   "cell_type": "markdown",
   "id": "51150d7d",
   "metadata": {},
   "source": [
    "No null values or type problems"
   ]
  },
  {
   "cell_type": "code",
   "execution_count": 16,
   "id": "ca8bac56",
   "metadata": {},
   "outputs": [],
   "source": [
    "X = df.drop('class', axis=1).values\n",
    "y = df['class'].values"
   ]
  },
  {
   "cell_type": "code",
   "execution_count": 17,
   "id": "762a7f62",
   "metadata": {},
   "outputs": [],
   "source": [
    "X_train, X_test, y_train, y_test = train_test_split(X, y, test_size=0.2, random_state=42)"
   ]
  },
  {
   "cell_type": "markdown",
   "id": "bdf12c57",
   "metadata": {},
   "source": [
    "# Scaling"
   ]
  },
  {
   "cell_type": "code",
   "execution_count": 18,
   "id": "c4007052",
   "metadata": {},
   "outputs": [],
   "source": [
    "scale = MinMaxScaler()"
   ]
  },
  {
   "cell_type": "code",
   "execution_count": 19,
   "id": "43d1b8e0",
   "metadata": {},
   "outputs": [],
   "source": [
    "train_fit = scale.fit(X_train)"
   ]
  },
  {
   "cell_type": "code",
   "execution_count": 20,
   "id": "fcf3f6bd",
   "metadata": {},
   "outputs": [],
   "source": [
    "X_train = train_fit.transform(X_train)\n",
    "X_test = train_fit.transform(X_test)"
   ]
  },
  {
   "cell_type": "markdown",
   "id": "ad2d9251",
   "metadata": {},
   "source": [
    "# Label Encoding"
   ]
  },
  {
   "cell_type": "code",
   "execution_count": 21,
   "id": "b4915ea3",
   "metadata": {},
   "outputs": [],
   "source": [
    "le = LabelEncoder()\n",
    "y_en = le.fit_transform(y)\n",
    "y_train_en = le.fit_transform(y_train)\n",
    "y_test_en = le.fit_transform(y_test)"
   ]
  },
  {
   "cell_type": "code",
   "execution_count": 22,
   "id": "9516cf28",
   "metadata": {},
   "outputs": [
    {
     "data": {
      "text/plain": [
       "((3429, 10), (858, 10))"
      ]
     },
     "execution_count": 22,
     "metadata": {},
     "output_type": "execute_result"
    }
   ],
   "source": [
    "X_train.shape, X_test.shape"
   ]
  },
  {
   "cell_type": "markdown",
   "id": "6c945623",
   "metadata": {},
   "source": [
    "# Model Evaluation"
   ]
  },
  {
   "cell_type": "markdown",
   "id": "015bcea4",
   "metadata": {},
   "source": [
    "Building an initial ANN model randomly to assess performance. Using two hidden layers with 16 neurons each."
   ]
  },
  {
   "cell_type": "code",
   "execution_count": 24,
   "id": "7b511169",
   "metadata": {},
   "outputs": [],
   "source": [
    "model = Sequential()\n",
    "\n",
    "model.add(Dense(16, input_shape=(10,), activation='relu'))\n",
    "model.add(Dense(16, activation='relu'))\n",
    "\n",
    "model.add(Dense(1, activation='sigmoid'))\n",
    "\n",
    "model.compile(loss='binary_crossentropy', optimizer='adam', metrics=['accuracy'])"
   ]
  },
  {
   "cell_type": "code",
   "execution_count": 25,
   "id": "366a97e5",
   "metadata": {},
   "outputs": [],
   "source": [
    "early_stop = EarlyStopping(monitor='val_loss', mode='min', patience=5)"
   ]
  },
  {
   "cell_type": "code",
   "execution_count": 26,
   "id": "09088b94",
   "metadata": {},
   "outputs": [
    {
     "name": "stdout",
     "output_type": "stream",
     "text": [
      "Epoch 1/100\n",
      "286/286 [==============================] - 5s 9ms/step - loss: 0.6379 - accuracy: 0.6582 - val_loss: 0.5709 - val_accuracy: 0.7646\n",
      "Epoch 2/100\n",
      "286/286 [==============================] - 1s 5ms/step - loss: 0.5308 - accuracy: 0.7626 - val_loss: 0.4983 - val_accuracy: 0.7692\n",
      "Epoch 3/100\n",
      "286/286 [==============================] - 1s 5ms/step - loss: 0.4878 - accuracy: 0.7737 - val_loss: 0.4801 - val_accuracy: 0.7844\n",
      "Epoch 4/100\n",
      "286/286 [==============================] - 1s 5ms/step - loss: 0.4695 - accuracy: 0.7842 - val_loss: 0.4743 - val_accuracy: 0.7844\n",
      "Epoch 5/100\n",
      "286/286 [==============================] - 1s 5ms/step - loss: 0.4561 - accuracy: 0.7792 - val_loss: 0.4695 - val_accuracy: 0.7809\n",
      "Epoch 6/100\n",
      "286/286 [==============================] - 2s 5ms/step - loss: 0.4483 - accuracy: 0.7819 - val_loss: 0.4509 - val_accuracy: 0.7937\n",
      "Epoch 7/100\n",
      "286/286 [==============================] - 1s 5ms/step - loss: 0.4417 - accuracy: 0.7877 - val_loss: 0.4450 - val_accuracy: 0.7949\n",
      "Epoch 8/100\n",
      "286/286 [==============================] - 1s 5ms/step - loss: 0.4358 - accuracy: 0.7938 - val_loss: 0.4446 - val_accuracy: 0.7937\n",
      "Epoch 9/100\n",
      "286/286 [==============================] - 1s 5ms/step - loss: 0.4332 - accuracy: 0.7912 - val_loss: 0.4408 - val_accuracy: 0.7984\n",
      "Epoch 10/100\n",
      "286/286 [==============================] - 1s 5ms/step - loss: 0.4305 - accuracy: 0.7927 - val_loss: 0.4293 - val_accuracy: 0.7937\n",
      "Epoch 11/100\n",
      "286/286 [==============================] - 2s 6ms/step - loss: 0.4252 - accuracy: 0.8005 - val_loss: 0.4392 - val_accuracy: 0.7925\n",
      "Epoch 12/100\n",
      "286/286 [==============================] - 1s 5ms/step - loss: 0.4214 - accuracy: 0.8034 - val_loss: 0.4263 - val_accuracy: 0.8019\n",
      "Epoch 13/100\n",
      "286/286 [==============================] - 2s 5ms/step - loss: 0.4190 - accuracy: 0.8049 - val_loss: 0.4305 - val_accuracy: 0.8007\n",
      "Epoch 14/100\n",
      "286/286 [==============================] - 1s 5ms/step - loss: 0.4180 - accuracy: 0.8110 - val_loss: 0.4334 - val_accuracy: 0.7925\n",
      "Epoch 15/100\n",
      "286/286 [==============================] - 1s 5ms/step - loss: 0.4160 - accuracy: 0.8116 - val_loss: 0.4251 - val_accuracy: 0.7925\n",
      "Epoch 16/100\n",
      "286/286 [==============================] - 2s 6ms/step - loss: 0.4148 - accuracy: 0.8014 - val_loss: 0.4175 - val_accuracy: 0.7984\n",
      "Epoch 17/100\n",
      "286/286 [==============================] - 2s 6ms/step - loss: 0.4147 - accuracy: 0.8101 - val_loss: 0.4202 - val_accuracy: 0.8042\n",
      "Epoch 18/100\n",
      "286/286 [==============================] - 2s 6ms/step - loss: 0.4115 - accuracy: 0.8119 - val_loss: 0.4203 - val_accuracy: 0.8007\n",
      "Epoch 19/100\n",
      "286/286 [==============================] - 2s 6ms/step - loss: 0.4114 - accuracy: 0.8148 - val_loss: 0.4185 - val_accuracy: 0.8077\n",
      "Epoch 20/100\n",
      "286/286 [==============================] - 2s 6ms/step - loss: 0.4091 - accuracy: 0.8128 - val_loss: 0.4162 - val_accuracy: 0.8019\n",
      "Epoch 21/100\n",
      "286/286 [==============================] - 2s 6ms/step - loss: 0.4080 - accuracy: 0.8128 - val_loss: 0.4148 - val_accuracy: 0.7984\n",
      "Epoch 22/100\n",
      "286/286 [==============================] - 1s 5ms/step - loss: 0.4087 - accuracy: 0.8104 - val_loss: 0.4260 - val_accuracy: 0.7914\n",
      "Epoch 23/100\n",
      "286/286 [==============================] - 1s 5ms/step - loss: 0.4067 - accuracy: 0.8148 - val_loss: 0.4199 - val_accuracy: 0.7984\n",
      "Epoch 24/100\n",
      "286/286 [==============================] - 2s 5ms/step - loss: 0.4034 - accuracy: 0.8215 - val_loss: 0.4164 - val_accuracy: 0.8019\n",
      "Epoch 25/100\n",
      "286/286 [==============================] - 2s 5ms/step - loss: 0.4018 - accuracy: 0.8157 - val_loss: 0.4104 - val_accuracy: 0.8089\n",
      "Epoch 26/100\n",
      "286/286 [==============================] - 1s 5ms/step - loss: 0.4048 - accuracy: 0.8198 - val_loss: 0.4117 - val_accuracy: 0.8089\n",
      "Epoch 27/100\n",
      "286/286 [==============================] - 2s 6ms/step - loss: 0.4036 - accuracy: 0.8160 - val_loss: 0.4119 - val_accuracy: 0.8030\n",
      "Epoch 28/100\n",
      "286/286 [==============================] - 2s 5ms/step - loss: 0.4006 - accuracy: 0.8215 - val_loss: 0.4152 - val_accuracy: 0.8089\n",
      "Epoch 29/100\n",
      "286/286 [==============================] - 2s 6ms/step - loss: 0.4005 - accuracy: 0.8209 - val_loss: 0.4072 - val_accuracy: 0.8124\n",
      "Epoch 30/100\n",
      "286/286 [==============================] - 2s 5ms/step - loss: 0.4000 - accuracy: 0.8239 - val_loss: 0.4184 - val_accuracy: 0.8042\n",
      "Epoch 31/100\n",
      "286/286 [==============================] - 2s 6ms/step - loss: 0.3998 - accuracy: 0.8212 - val_loss: 0.4109 - val_accuracy: 0.8124\n",
      "Epoch 32/100\n",
      "286/286 [==============================] - 2s 6ms/step - loss: 0.3988 - accuracy: 0.8206 - val_loss: 0.4128 - val_accuracy: 0.8054\n",
      "Epoch 33/100\n",
      "286/286 [==============================] - 2s 5ms/step - loss: 0.3998 - accuracy: 0.8250 - val_loss: 0.4122 - val_accuracy: 0.8019\n",
      "Epoch 34/100\n",
      "286/286 [==============================] - 2s 6ms/step - loss: 0.3984 - accuracy: 0.8221 - val_loss: 0.4195 - val_accuracy: 0.7902\n"
     ]
    },
    {
     "data": {
      "text/plain": [
       "<keras.callbacks.History at 0x1b6ef00a8e0>"
      ]
     },
     "execution_count": 26,
     "metadata": {},
     "output_type": "execute_result"
    }
   ],
   "source": [
    "model.fit(X_train, y_train_en, batch_size=12, epochs=100, \n",
    "          validation_data=(X_test, y_test_en), callbacks=[early_stop])"
   ]
  },
  {
   "cell_type": "code",
   "execution_count": 27,
   "id": "6b0a328b",
   "metadata": {},
   "outputs": [
    {
     "data": {
      "text/html": [
       "<div>\n",
       "<style scoped>\n",
       "    .dataframe tbody tr th:only-of-type {\n",
       "        vertical-align: middle;\n",
       "    }\n",
       "\n",
       "    .dataframe tbody tr th {\n",
       "        vertical-align: top;\n",
       "    }\n",
       "\n",
       "    .dataframe thead th {\n",
       "        text-align: right;\n",
       "    }\n",
       "</style>\n",
       "<table border=\"1\" class=\"dataframe\">\n",
       "  <thead>\n",
       "    <tr style=\"text-align: right;\">\n",
       "      <th></th>\n",
       "      <th>loss</th>\n",
       "      <th>accuracy</th>\n",
       "      <th>val_loss</th>\n",
       "      <th>val_accuracy</th>\n",
       "    </tr>\n",
       "  </thead>\n",
       "  <tbody>\n",
       "    <tr>\n",
       "      <th>0</th>\n",
       "      <td>0.637866</td>\n",
       "      <td>0.658209</td>\n",
       "      <td>0.570947</td>\n",
       "      <td>0.764569</td>\n",
       "    </tr>\n",
       "    <tr>\n",
       "      <th>1</th>\n",
       "      <td>0.530764</td>\n",
       "      <td>0.762613</td>\n",
       "      <td>0.498332</td>\n",
       "      <td>0.769231</td>\n",
       "    </tr>\n",
       "    <tr>\n",
       "      <th>2</th>\n",
       "      <td>0.487789</td>\n",
       "      <td>0.773695</td>\n",
       "      <td>0.480139</td>\n",
       "      <td>0.784382</td>\n",
       "    </tr>\n",
       "    <tr>\n",
       "      <th>3</th>\n",
       "      <td>0.469458</td>\n",
       "      <td>0.784194</td>\n",
       "      <td>0.474297</td>\n",
       "      <td>0.784382</td>\n",
       "    </tr>\n",
       "    <tr>\n",
       "      <th>4</th>\n",
       "      <td>0.456132</td>\n",
       "      <td>0.779236</td>\n",
       "      <td>0.469494</td>\n",
       "      <td>0.780886</td>\n",
       "    </tr>\n",
       "    <tr>\n",
       "      <th>5</th>\n",
       "      <td>0.448308</td>\n",
       "      <td>0.781861</td>\n",
       "      <td>0.450888</td>\n",
       "      <td>0.793706</td>\n",
       "    </tr>\n",
       "    <tr>\n",
       "      <th>6</th>\n",
       "      <td>0.441718</td>\n",
       "      <td>0.787693</td>\n",
       "      <td>0.444974</td>\n",
       "      <td>0.794872</td>\n",
       "    </tr>\n",
       "    <tr>\n",
       "      <th>7</th>\n",
       "      <td>0.435758</td>\n",
       "      <td>0.793817</td>\n",
       "      <td>0.444631</td>\n",
       "      <td>0.793706</td>\n",
       "    </tr>\n",
       "    <tr>\n",
       "      <th>8</th>\n",
       "      <td>0.433161</td>\n",
       "      <td>0.791193</td>\n",
       "      <td>0.440832</td>\n",
       "      <td>0.798368</td>\n",
       "    </tr>\n",
       "    <tr>\n",
       "      <th>9</th>\n",
       "      <td>0.430510</td>\n",
       "      <td>0.792651</td>\n",
       "      <td>0.429265</td>\n",
       "      <td>0.793706</td>\n",
       "    </tr>\n",
       "    <tr>\n",
       "      <th>10</th>\n",
       "      <td>0.425176</td>\n",
       "      <td>0.800525</td>\n",
       "      <td>0.439234</td>\n",
       "      <td>0.792541</td>\n",
       "    </tr>\n",
       "    <tr>\n",
       "      <th>11</th>\n",
       "      <td>0.421401</td>\n",
       "      <td>0.803441</td>\n",
       "      <td>0.426323</td>\n",
       "      <td>0.801865</td>\n",
       "    </tr>\n",
       "    <tr>\n",
       "      <th>12</th>\n",
       "      <td>0.418988</td>\n",
       "      <td>0.804899</td>\n",
       "      <td>0.430531</td>\n",
       "      <td>0.800699</td>\n",
       "    </tr>\n",
       "    <tr>\n",
       "      <th>13</th>\n",
       "      <td>0.418029</td>\n",
       "      <td>0.811024</td>\n",
       "      <td>0.433384</td>\n",
       "      <td>0.792541</td>\n",
       "    </tr>\n",
       "    <tr>\n",
       "      <th>14</th>\n",
       "      <td>0.416044</td>\n",
       "      <td>0.811607</td>\n",
       "      <td>0.425100</td>\n",
       "      <td>0.792541</td>\n",
       "    </tr>\n",
       "    <tr>\n",
       "      <th>15</th>\n",
       "      <td>0.414807</td>\n",
       "      <td>0.801400</td>\n",
       "      <td>0.417519</td>\n",
       "      <td>0.798368</td>\n",
       "    </tr>\n",
       "    <tr>\n",
       "      <th>16</th>\n",
       "      <td>0.414669</td>\n",
       "      <td>0.810149</td>\n",
       "      <td>0.420178</td>\n",
       "      <td>0.804196</td>\n",
       "    </tr>\n",
       "    <tr>\n",
       "      <th>17</th>\n",
       "      <td>0.411461</td>\n",
       "      <td>0.811899</td>\n",
       "      <td>0.420283</td>\n",
       "      <td>0.800699</td>\n",
       "    </tr>\n",
       "    <tr>\n",
       "      <th>18</th>\n",
       "      <td>0.411400</td>\n",
       "      <td>0.814815</td>\n",
       "      <td>0.418517</td>\n",
       "      <td>0.807692</td>\n",
       "    </tr>\n",
       "    <tr>\n",
       "      <th>19</th>\n",
       "      <td>0.409137</td>\n",
       "      <td>0.812773</td>\n",
       "      <td>0.416193</td>\n",
       "      <td>0.801865</td>\n",
       "    </tr>\n",
       "    <tr>\n",
       "      <th>20</th>\n",
       "      <td>0.407960</td>\n",
       "      <td>0.812773</td>\n",
       "      <td>0.414791</td>\n",
       "      <td>0.798368</td>\n",
       "    </tr>\n",
       "    <tr>\n",
       "      <th>21</th>\n",
       "      <td>0.408709</td>\n",
       "      <td>0.810440</td>\n",
       "      <td>0.425981</td>\n",
       "      <td>0.791375</td>\n",
       "    </tr>\n",
       "    <tr>\n",
       "      <th>22</th>\n",
       "      <td>0.406652</td>\n",
       "      <td>0.814815</td>\n",
       "      <td>0.419863</td>\n",
       "      <td>0.798368</td>\n",
       "    </tr>\n",
       "    <tr>\n",
       "      <th>23</th>\n",
       "      <td>0.403396</td>\n",
       "      <td>0.821522</td>\n",
       "      <td>0.416444</td>\n",
       "      <td>0.801865</td>\n",
       "    </tr>\n",
       "    <tr>\n",
       "      <th>24</th>\n",
       "      <td>0.401751</td>\n",
       "      <td>0.815690</td>\n",
       "      <td>0.410448</td>\n",
       "      <td>0.808858</td>\n",
       "    </tr>\n",
       "    <tr>\n",
       "      <th>25</th>\n",
       "      <td>0.404761</td>\n",
       "      <td>0.819773</td>\n",
       "      <td>0.411679</td>\n",
       "      <td>0.808858</td>\n",
       "    </tr>\n",
       "    <tr>\n",
       "      <th>26</th>\n",
       "      <td>0.403627</td>\n",
       "      <td>0.815981</td>\n",
       "      <td>0.411887</td>\n",
       "      <td>0.803030</td>\n",
       "    </tr>\n",
       "    <tr>\n",
       "      <th>27</th>\n",
       "      <td>0.400620</td>\n",
       "      <td>0.821522</td>\n",
       "      <td>0.415164</td>\n",
       "      <td>0.808858</td>\n",
       "    </tr>\n",
       "    <tr>\n",
       "      <th>28</th>\n",
       "      <td>0.400491</td>\n",
       "      <td>0.820939</td>\n",
       "      <td>0.407228</td>\n",
       "      <td>0.812354</td>\n",
       "    </tr>\n",
       "    <tr>\n",
       "      <th>29</th>\n",
       "      <td>0.399982</td>\n",
       "      <td>0.823855</td>\n",
       "      <td>0.418436</td>\n",
       "      <td>0.804196</td>\n",
       "    </tr>\n",
       "    <tr>\n",
       "      <th>30</th>\n",
       "      <td>0.399813</td>\n",
       "      <td>0.821231</td>\n",
       "      <td>0.410877</td>\n",
       "      <td>0.812354</td>\n",
       "    </tr>\n",
       "    <tr>\n",
       "      <th>31</th>\n",
       "      <td>0.398831</td>\n",
       "      <td>0.820647</td>\n",
       "      <td>0.412819</td>\n",
       "      <td>0.805361</td>\n",
       "    </tr>\n",
       "    <tr>\n",
       "      <th>32</th>\n",
       "      <td>0.399751</td>\n",
       "      <td>0.825022</td>\n",
       "      <td>0.412201</td>\n",
       "      <td>0.801865</td>\n",
       "    </tr>\n",
       "    <tr>\n",
       "      <th>33</th>\n",
       "      <td>0.398386</td>\n",
       "      <td>0.822106</td>\n",
       "      <td>0.419518</td>\n",
       "      <td>0.790210</td>\n",
       "    </tr>\n",
       "  </tbody>\n",
       "</table>\n",
       "</div>"
      ],
      "text/plain": [
       "        loss  accuracy  val_loss  val_accuracy\n",
       "0   0.637866  0.658209  0.570947      0.764569\n",
       "1   0.530764  0.762613  0.498332      0.769231\n",
       "2   0.487789  0.773695  0.480139      0.784382\n",
       "3   0.469458  0.784194  0.474297      0.784382\n",
       "4   0.456132  0.779236  0.469494      0.780886\n",
       "5   0.448308  0.781861  0.450888      0.793706\n",
       "6   0.441718  0.787693  0.444974      0.794872\n",
       "7   0.435758  0.793817  0.444631      0.793706\n",
       "8   0.433161  0.791193  0.440832      0.798368\n",
       "9   0.430510  0.792651  0.429265      0.793706\n",
       "10  0.425176  0.800525  0.439234      0.792541\n",
       "11  0.421401  0.803441  0.426323      0.801865\n",
       "12  0.418988  0.804899  0.430531      0.800699\n",
       "13  0.418029  0.811024  0.433384      0.792541\n",
       "14  0.416044  0.811607  0.425100      0.792541\n",
       "15  0.414807  0.801400  0.417519      0.798368\n",
       "16  0.414669  0.810149  0.420178      0.804196\n",
       "17  0.411461  0.811899  0.420283      0.800699\n",
       "18  0.411400  0.814815  0.418517      0.807692\n",
       "19  0.409137  0.812773  0.416193      0.801865\n",
       "20  0.407960  0.812773  0.414791      0.798368\n",
       "21  0.408709  0.810440  0.425981      0.791375\n",
       "22  0.406652  0.814815  0.419863      0.798368\n",
       "23  0.403396  0.821522  0.416444      0.801865\n",
       "24  0.401751  0.815690  0.410448      0.808858\n",
       "25  0.404761  0.819773  0.411679      0.808858\n",
       "26  0.403627  0.815981  0.411887      0.803030\n",
       "27  0.400620  0.821522  0.415164      0.808858\n",
       "28  0.400491  0.820939  0.407228      0.812354\n",
       "29  0.399982  0.823855  0.418436      0.804196\n",
       "30  0.399813  0.821231  0.410877      0.812354\n",
       "31  0.398831  0.820647  0.412819      0.805361\n",
       "32  0.399751  0.825022  0.412201      0.801865\n",
       "33  0.398386  0.822106  0.419518      0.790210"
      ]
     },
     "execution_count": 27,
     "metadata": {},
     "output_type": "execute_result"
    }
   ],
   "source": [
    "ann_metrics = pd.DataFrame(model.history.history)\n",
    "ann_metrics"
   ]
  },
  {
   "cell_type": "markdown",
   "id": "181c6b77",
   "metadata": {},
   "source": [
    "# Evaluating Accuracy"
   ]
  },
  {
   "cell_type": "code",
   "execution_count": 29,
   "id": "eadff1fc",
   "metadata": {},
   "outputs": [
    {
     "data": {
      "text/plain": [
       "<AxesSubplot:>"
      ]
     },
     "execution_count": 29,
     "metadata": {},
     "output_type": "execute_result"
    },
    {
     "data": {
      "image/png": "[encoded data removed]",
      "text/plain": [
       "<Figure size 432x288 with 1 Axes>"
      ]
     },
     "metadata": {
      "needs_background": "light"
     },
     "output_type": "display_data"
    }
   ],
   "source": [
    "ann_metrics[['accuracy', 'val_accuracy']].plot()"
   ]
  },
  {
   "cell_type": "markdown",
   "id": "289ec962",
   "metadata": {},
   "source": [
    "The model has reached limit and would over fit on further epochs. Validation and train loss moving down togther is good indication"
   ]
  },
  {
   "cell_type": "code",
   "execution_count": 30,
   "id": "82fca3aa",
   "metadata": {},
   "outputs": [
    {
     "name": "stdout",
     "output_type": "stream",
     "text": [
      "27/27 [==============================] - 1s 2ms/step\n"
     ]
    }
   ],
   "source": [
    "predictions = (model.predict(X_test) > 0.5).astype('int32')"
   ]
  },
  {
   "cell_type": "code",
   "execution_count": 31,
   "id": "ca36c67d",
   "metadata": {},
   "outputs": [
    {
     "name": "stdout",
     "output_type": "stream",
     "text": [
      "              precision    recall  f1-score   support\n",
      "\n",
      "           0       0.82      0.77      0.80       461\n",
      "           1       0.76      0.81      0.78       397\n",
      "\n",
      "    accuracy                           0.79       858\n",
      "   macro avg       0.79      0.79      0.79       858\n",
      "weighted avg       0.79      0.79      0.79       858\n",
      "\n"
     ]
    }
   ],
   "source": [
    "print(classification_report(y_test_en, predictions))"
   ]
  },
  {
   "cell_type": "code",
   "execution_count": 32,
   "id": "d415bdc5",
   "metadata": {},
   "outputs": [
    {
     "data": {
      "text/plain": [
       "array([[357, 104],\n",
       "       [ 76, 321]], dtype=int64)"
      ]
     },
     "execution_count": 32,
     "metadata": {},
     "output_type": "execute_result"
    }
   ],
   "source": [
    "confusion_matrix(y_test_en, predictions)"
   ]
  },
  {
   "cell_type": "code",
   "execution_count": 33,
   "id": "7b09994d",
   "metadata": {},
   "outputs": [
    {
     "data": {
      "text/plain": [
       "0.7902097902097902"
      ]
     },
     "execution_count": 33,
     "metadata": {},
     "output_type": "execute_result"
    }
   ],
   "source": [
    "accuracy_score(y_test_en, predictions)"
   ]
  },
  {
   "cell_type": "code",
   "execution_count": 34,
   "id": "6516e256",
   "metadata": {},
   "outputs": [
    {
     "data": {
      "text/plain": [
       "0.781021897810219"
      ]
     },
     "execution_count": 34,
     "metadata": {},
     "output_type": "execute_result"
    }
   ],
   "source": [
    "f1_score(y_test_en, predictions)"
   ]
  },
  {
   "cell_type": "markdown",
   "id": "dc7fc3b3",
   "metadata": {},
   "source": [
    "just an initial model gave 79.02% accuracy and 78.10% f-1 score. Initial objectives completed."
   ]
  },
  {
   "cell_type": "markdown",
   "id": "ef3ef18d",
   "metadata": {},
   "source": [
    "# Hyperparameter Tuning"
   ]
  },
  {
   "cell_type": "markdown",
   "id": "d4c53922",
   "metadata": {},
   "source": [
    "Used grid search with a sklearn wrapper of keras called scikeras"
   ]
  },
  {
   "cell_type": "code",
   "execution_count": 36,
   "id": "c6061a79",
   "metadata": {},
   "outputs": [],
   "source": [
    "def create_model(neurons, dropout_rate, optimizer='adam'):\n",
    "\n",
    "\tmodel = Sequential()\n",
    "\tmodel.add(Dense(neurons, input_shape=(10,), activation='relu'))\n",
    "\tmodel.add(Dropout(dropout_rate))\n",
    "\tmodel.add(Dense(1, activation='sigmoid'))\n",
    " \n",
    "\tmodel.compile(loss='binary_crossentropy', optimizer=optimizer, metrics=['accuracy'])\n",
    "\treturn model"
   ]
  },
  {
   "cell_type": "code",
   "execution_count": 37,
   "id": "79e96845",
   "metadata": {},
   "outputs": [],
   "source": [
    "optimizer = ['SGD', 'RMSprop', 'Adam']\n",
    "dropout_rate = [0.2, 0.3, 0.4, 0.5]\n",
    "neurons = [15, 20, 25, 30]\n",
    "\n",
    "param_grid = dict(model__optimizer=optimizer, model__dropout_rate=dropout_rate, \n",
    "                  model__neurons=neurons)"
   ]
  },
  {
   "cell_type": "code",
   "execution_count": 38,
   "id": "5b899faf",
   "metadata": {},
   "outputs": [],
   "source": [
    "model = KerasClassifier(model=create_model, epochs=100, batch_size=10, verbose=0)"
   ]
  },
  {
   "cell_type": "code",
   "execution_count": null,
   "id": "349356db",
   "metadata": {},
   "outputs": [],
   "source": [
    "grid = GridSearchCV(estimator=model, param_grid=param_grid, n_jobs=-1, cv=3)\n",
    "grid_result = grid.fit(X, y_en)"
   ]
  },
  {
   "cell_type": "code",
   "execution_count": null,
   "id": "abb10ce3",
   "metadata": {},
   "outputs": [],
   "source": [
    "print(\"Best: %f using %s\" % (grid_result.best_score_, grid_result.best_params_))\n",
    "means = grid_result.cv_results_['mean_test_score']\n",
    "stds = grid_result.cv_results_['std_test_score']\n",
    "params = grid_result.cv_results_['params']\n",
    "for mean, stdev, param in zip(means, stds, params):\n",
    "    print(\"%f (%f) with: %r\" % (mean, stdev, param))\n"
   ]
  },
  {
   "cell_type": "code",
   "execution_count": null,
   "id": "7d7c34a2",
   "metadata": {},
   "outputs": [],
   "source": []
  }
 ],
 "metadata": {
  "kernelspec": {
   "display_name": "Python 3",
   "language": "python",
   "name": "python3"
  },
  "language_info": {
   "codemirror_mode": {
    "name": "ipython",
    "version": 3
   },
   "file_extension": ".py",
   "mimetype": "text/x-python",
   "name": "python",
   "nbconvert_exporter": "python",
   "pygments_lexer": "ipython3",
   "version": "3.8.8"
  }
 },
 "nbformat": 4,
 "nbformat_minor": 5
}
